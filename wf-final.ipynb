{
 "cells": [
  {
   "cell_type": "code",
   "execution_count": 27,
   "metadata": {},
   "outputs": [],
   "source": [
    "import logging, os, sys\n",
    "import numpy as np\n",
    "import urllib.request\n",
    "import shutil\n",
    "import subprocess\n",
    "import zipfile\n",
    "import pickle\n",
    "from pathlib import Path\n",
    "import pandas as pd\n",
    "from Pegasus.api import *"
   ]
  },
  {
   "cell_type": "code",
   "execution_count": 28,
   "metadata": {},
   "outputs": [],
   "source": [
    "from util_workflow import download_data, unzip_flatten_data, return_corrupted_files, return_input_files\n",
    "from util_workflow import add_input_wf_files, add_output_job1, add_output_job2, return_filenames_job2\n",
    "from util_workflow import split_data_filenames, add_input_tune_model,create_tar_and_pkl, create_pkl"
   ]
  },
  {
   "cell_type": "code",
   "execution_count": 29,
   "metadata": {},
   "outputs": [],
   "source": [
    "# --- Import Pegasus API ---\n",
    "from Pegasus.api import *\n",
    "logging.basicConfig(level=logging.DEBUG)\n",
    "props = Properties()\n",
    "props[\"dagman.retry\"] = \"2\"\n",
    "props[\"pegasus.transfer.arguments\"] = \"-m 1\"\n",
    "props.write()"
   ]
  },
  {
   "cell_type": "code",
   "execution_count": 30,
   "metadata": {},
   "outputs": [],
   "source": [
    "dataset_link = \"https://download.microsoft.com/download/3/E/1/3E1C3F21-ECDB-4869-8368-6DEBA77B919F/kagglecatsanddogs_3367a.zip\"\n",
    "zip_data = \"kagglecatsanddogs_3367a.zip\"\n",
    "directory_to_extract_to = \".\"\n",
    "\n",
    "DOWNLOAD_DATA = False\n",
    "DATASET_SIZE = 12\n",
    "DATA_DIR = \"dev_data/\"\n",
    "UTILS_DIR = \"utils/\"\n",
    "DATA_SPLIT_FILE = \"data_split_id_list.pickle\"\n",
    "\n",
    "arch_names = [\"basicnet\", \"densenet121\", \"vgg16\"]\n",
    "CATS = \"PetImages/Cat\"\n",
    "DOGS = \"PetImages/Dog\"\n",
    "LABELS = {CATS: 0, DOGS: 1}\n",
    "NUM_EPOCHS = 4\n",
    "NUM_TRIALS = 3\n",
    "\n",
    "if not os.path.exists(DATA_DIR):\n",
    "    os.makedirs(DATA_DIR)   \n",
    "    \n",
    "if DOWNLOAD_DATA == True:\n",
    "    download_data(dataset_link)"
   ]
  },
  {
   "cell_type": "code",
   "execution_count": 31,
   "metadata": {},
   "outputs": [],
   "source": [
    "# Avoid corrupted files for now\n",
    "corrupted_files = return_corrupted_files(\"corrupted_files.txt\")\n",
    "\n",
    "# Get names of image files that will serve as inputs to the workflow\n",
    "input_file_names = return_input_files(corrupted_files, DATASET_SIZE, DATA_DIR, LABELS)"
   ]
  },
  {
   "cell_type": "code",
   "execution_count": 32,
   "metadata": {},
   "outputs": [],
   "source": [
    "def add_input_wf_files(input_file_names, DATA_DIR,rc):\n",
    "    \"\"\" Inputs to data_preprocessing1.py\n",
    "    \"\"\"\n",
    "    all_input_files  = []\n",
    "    for filename in input_file_names:\n",
    "        dst = DATA_DIR + filename\n",
    "        print(os.path.join(os.getcwd(), dst))\n",
    "        all_input_files.append(File(filename))\n",
    "        rc.add_replica(\"local\", filename,  os.path.join(os.getcwd(), dst)) \n",
    "    return all_input_files"
   ]
  },
  {
   "cell_type": "code",
   "execution_count": 33,
   "metadata": {},
   "outputs": [
    {
     "name": "stdout",
     "output_type": "stream",
     "text": [
      "/home/scitech/shared-data/pegasus-catdog-wf-master/dev_data/Cat_11287.jpg\n",
      "/home/scitech/shared-data/pegasus-catdog-wf-master/dev_data/Cat_9395.jpg\n",
      "/home/scitech/shared-data/pegasus-catdog-wf-master/dev_data/Cat_11992.jpg\n",
      "/home/scitech/shared-data/pegasus-catdog-wf-master/dev_data/Cat_12249.jpg\n",
      "/home/scitech/shared-data/pegasus-catdog-wf-master/dev_data/Cat_5786.jpg\n",
      "/home/scitech/shared-data/pegasus-catdog-wf-master/dev_data/Cat_2396.jpg\n",
      "/home/scitech/shared-data/pegasus-catdog-wf-master/dev_data/Dog_11287.jpg\n",
      "/home/scitech/shared-data/pegasus-catdog-wf-master/dev_data/Dog_9395.jpg\n",
      "/home/scitech/shared-data/pegasus-catdog-wf-master/dev_data/Dog_11992.jpg\n",
      "/home/scitech/shared-data/pegasus-catdog-wf-master/dev_data/Dog_12249.jpg\n",
      "/home/scitech/shared-data/pegasus-catdog-wf-master/dev_data/Dog_5786.jpg\n",
      "/home/scitech/shared-data/pegasus-catdog-wf-master/dev_data/Dog_2396.jpg\n"
     ]
    }
   ],
   "source": [
    "rc = ReplicaCatalog()\n",
    "\n",
    "input_preprocess1 = add_input_wf_files(input_file_names, DATA_DIR,rc)"
   ]
  },
  {
   "cell_type": "code",
   "execution_count": 34,
   "metadata": {},
   "outputs": [],
   "source": [
    "input_preprocess2 = add_output_job1(input_file_names)"
   ]
  },
  {
   "cell_type": "code",
   "execution_count": 35,
   "metadata": {},
   "outputs": [],
   "source": [
    "rc.write()"
   ]
  },
  {
   "cell_type": "code",
   "execution_count": 36,
   "metadata": {},
   "outputs": [],
   "source": [
    "# Create and add our transformations to the TransformationCatalog.\n",
    "tc = TransformationCatalog()\n",
    "\n",
    "# Data preprocessing part 1 \n",
    "preprocess_tc1 = Transformation(\n",
    "                \"preprocess1\",\n",
    "                site=\"local\",\n",
    "                pfn = str(Path(\".\").parent.resolve() / \"bin/data_preprocessing1.py\"), \n",
    "                is_stageable= True\n",
    "            )"
   ]
  },
  {
   "cell_type": "code",
   "execution_count": 37,
   "metadata": {},
   "outputs": [],
   "source": [
    "tc.add_transformations(preprocess_tc1) #, preprocess2,data_split,tune_model_vgg16,choose_best_model)\n",
    "tc.write()"
   ]
  },
  {
   "cell_type": "code",
   "execution_count": 38,
   "metadata": {},
   "outputs": [],
   "source": [
    "# Set infer_dependencies=True so that they are inferred based on job input and output file usage.\n",
    "wf = Workflow(\"catVsdog-test-wf\", infer_dependencies=True)\n",
    "\n",
    "# Create Jobs. These objects store just that. The transformation (executable) used by the job.\n",
    "#The arguments passed to the executable. The input files used and the output files produced. \n",
    "\n",
    "\n",
    "job_preprocess_1 = Job(preprocess_tc1)\\\n",
    "                    .add_inputs(*input_preprocess1)\\\n",
    "                    .add_outputs(*input_preprocess2)\n"
   ]
  },
  {
   "cell_type": "code",
   "execution_count": 39,
   "metadata": {},
   "outputs": [
    {
     "data": {
      "text/plain": [
       "<Pegasus.api.workflow.Workflow at 0x7f49f8e9acc0>"
      ]
     },
     "execution_count": 39,
     "metadata": {},
     "output_type": "execute_result"
    }
   ],
   "source": [
    "wf.add_jobs(\n",
    "    job_preprocess_1#,\n",
    "#    job_preprocess_2,\n",
    "#    job_data_split#,\n",
    "#    job_tune_model_vgg16,\n",
    "#    job_choose_best_model\n",
    ")\n"
   ]
  },
  {
   "cell_type": "code",
   "execution_count": 40,
   "metadata": {},
   "outputs": [
    {
     "name": "stderr",
     "output_type": "stream",
     "text": [
      "\n",
      "################\n",
      "# pegasus-plan #\n",
      "################\n",
      "2021.02.08 06:08:54.361 UTC:\n",
      "2021.02.08 06:08:54.366 UTC:   -----------------------------------------------------------------------\n",
      "2021.02.08 06:08:54.371 UTC:   File for submitting this DAG to HTCondor           : catVsdog-test-wf-0.dag.condor.sub\n",
      "2021.02.08 06:08:54.376 UTC:   Log of DAGMan debugging messages                 : catVsdog-test-wf-0.dag.dagman.out\n",
      "2021.02.08 06:08:54.381 UTC:   Log of HTCondor library output                     : catVsdog-test-wf-0.dag.lib.out\n",
      "2021.02.08 06:08:54.387 UTC:   Log of HTCondor library error messages             : catVsdog-test-wf-0.dag.lib.err\n",
      "2021.02.08 06:08:54.392 UTC:   Log of the life of condor_dagman itself          : catVsdog-test-wf-0.dag.dagman.log\n",
      "2021.02.08 06:08:54.397 UTC:\n",
      "2021.02.08 06:08:54.402 UTC:   -no_submit given, not submitting DAG to HTCondor.  You can do this with:\n",
      "2021.02.08 06:08:54.412 UTC:   -----------------------------------------------------------------------\n",
      "2021.02.08 06:08:55.054 UTC:   Your database is compatible with Pegasus version: 5.1.0dev\n",
      "2021.02.08 06:08:55.779 UTC:   Created Pegasus database in: sqlite:////home/scitech/shared-data/pegasus-catdog-wf-master/scitech/pegasus/catVsdog-test-wf/run0008/catVsdog-test-wf-0.replicas.db\n",
      "2021.02.08 06:08:55.784 UTC:   Your database is compatible with Pegasus version: 5.1.0dev\n",
      "2021.02.08 06:08:55.839 UTC:   Output replica catalog set to jdbc:sqlite:/home/scitech/shared-data/pegasus-catdog-wf-master/scitech/pegasus/catVsdog-test-wf/run0008/catVsdog-test-wf-0.replicas.db\n",
      "[WARNING]  Submitting to condor catVsdog-test-wf-0.dag.condor.sub\n",
      "2021.02.08 06:08:56.379 UTC:   Time taken to execute is 2.317 seconds\n",
      "\n",
      "Your workflow has been started and is running in the base directory:\n",
      "\n",
      "/home/scitech/shared-data/pegasus-catdog-wf-master/scitech/pegasus/catVsdog-test-wf/run0008\n",
      "\n",
      "*** To monitor the workflow you can run ***\n",
      "\n",
      "pegasus-status -l /home/scitech/shared-data/pegasus-catdog-wf-master/scitech/pegasus/catVsdog-test-wf/run0008\n",
      "\n",
      "\n",
      "*** To remove your workflow run ***\n",
      "\n",
      "pegasus-remove /home/scitech/shared-data/pegasus-catdog-wf-master/scitech/pegasus/catVsdog-test-wf/run0008\n",
      "\n"
     ]
    },
    {
     "name": "stdout",
     "output_type": "stream",
     "text": [
      "[\u001b[1;32m####################################\u001b[0m] 100.0% ..Success (\u001b[1;32mCompleted: 9\u001b[0m, \u001b[1;33mQueued: 0\u001b[0m, \u001b[1;36mRunning: 0\u001b[0m, \u001b[1;31mFailed: 0\u001b[0m)\n"
     ]
    },
    {
     "name": "stderr",
     "output_type": "stream",
     "text": [
      "\n",
      "####################\n",
      "# pegasus-analyzer #\n",
      "####################\n",
      "Your database is compatible with Pegasus version: 5.1.0dev\n",
      "\n",
      "************************************Summary*************************************\n",
      "\n",
      "Submit Directory   : /home/scitech/shared-data/pegasus-catdog-wf-master/scitech/pegasus/catVsdog-test-wf/run0008\n",
      "Total jobs         :      9 (100.00%)\n",
      "# jobs succeeded   :      9 (100.00%)\n",
      "# jobs failed      :      0 (0.00%)\n",
      "# jobs held        :      0 (0.00%)\n",
      "# jobs unsubmitted :      0 (0.00%)\n",
      "\n",
      "\n",
      "######################\n",
      "# pegasus-statistics #\n",
      "######################\n",
      "Your database is compatible with Pegasus version: 5.1.0dev\n",
      "\n",
      "#\n",
      "# Pegasus Workflow Management System - http://pegasus.isi.edu\n",
      "#\n",
      "# Workflow summary:\n",
      "#   Summary of the workflow execution. It shows total\n",
      "#   tasks/jobs/sub workflows run, how many succeeded/failed etc.\n",
      "#   In case of hierarchical workflow the calculation shows the\n",
      "#   statistics across all the sub workflows.It shows the following\n",
      "#   statistics about tasks, jobs and sub workflows.\n",
      "#     * Succeeded - total count of succeeded tasks/jobs/sub workflows.\n",
      "#     * Failed - total count of failed tasks/jobs/sub workflows.\n",
      "#     * Incomplete - total count of tasks/jobs/sub workflows that are\n",
      "#       not in succeeded or failed state. This includes all the jobs\n",
      "#       that are not submitted, submitted but not completed etc. This\n",
      "#       is calculated as  difference between 'total' count and sum of\n",
      "#       'succeeded' and 'failed' count.\n",
      "#     * Total - total count of tasks/jobs/sub workflows.\n",
      "#     * Retries - total retry count of tasks/jobs/sub workflows.\n",
      "#     * Total+Retries - total count of tasks/jobs/sub workflows executed\n",
      "#       during workflow run. This is the cumulative of retries,\n",
      "#       succeeded and failed count.\n",
      "# Workflow wall time:\n",
      "#   The wall time from the start of the workflow execution to the end as\n",
      "#   reported by the DAGMAN.In case of rescue dag the value is the\n",
      "#   cumulative of all retries.\n",
      "# Cumulative job wall time:\n",
      "#   The sum of the wall time of all jobs as reported by kickstart.\n",
      "#   In case of job retries the value is the cumulative of all retries.\n",
      "#   For workflows having sub workflow jobs (i.e SUBDAG and SUBDAX jobs),\n",
      "#   the wall time value includes jobs from the sub workflows as well.\n",
      "# Cumulative job wall time as seen from submit side:\n",
      "#   The sum of the wall time of all jobs as reported by DAGMan.\n",
      "#   This is similar to the regular cumulative job wall time, but includes\n",
      "#   job management overhead and delays. In case of job retries the value\n",
      "#   is the cumulative of all retries. For workflows having sub workflow\n",
      "#   jobs (i.e SUBDAG and SUBDAX jobs), the wall time value includes jobs\n",
      "#   from the sub workflows as well.\n",
      "# Cumulative job badput wall time:\n",
      "#   The sum of the wall time of all failed jobs as reported by kickstart.\n",
      "#   In case of job retries the value is the cumulative of all retries.\n",
      "#   For workflows having sub workflow jobs (i.e SUBDAG and SUBDAX jobs),\n",
      "#   the wall time value includes jobs from the sub workflows as well.\n",
      "# Cumulative job badput wall time as seen from submit side:\n",
      "#   The sum of the wall time of all failed jobs as reported by DAGMan.\n",
      "#   This is similar to the regular cumulative job badput wall time, but includes\n",
      "#   job management overhead and delays. In case of job retries the value\n",
      "#   is the cumulative of all retries. For workflows having sub workflow\n",
      "#   jobs (i.e SUBDAG and SUBDAX jobs), the wall time value includes jobs\n",
      "#   from the sub workflows as well.\n",
      "------------------------------------------------------------------------------\n",
      "Type           Succeeded Failed  Incomplete  Total     Retries   Total+Retries\n",
      "Tasks          1         0       0           1         0         1\n",
      "Jobs           9         0       0           9         0         9\n",
      "Sub-Workflows  0         0       0           0         0         0\n",
      "------------------------------------------------------------------------------\n",
      "\n",
      "Workflow wall time                                       : 1 min, 59 secs\n",
      "Cumulative job wall time                                 : 42.33 secs\n",
      "Cumulative job wall time as seen from submit side        : 44.0 secs\n",
      "Cumulative job badput wall time                          : 0.0 secs\n",
      "Cumulative job badput wall time as seen from submit side : 0.0 secs\n",
      "\n",
      "# Integrity Metrics\n",
      "# Number of files for which checksums were compared/computed along with total time spent doing it.\n",
      "25 files checksums compared with total duration of 1.08 secs\n",
      "25 files checksums generated with total duration of 0.11 secs\n",
      "\n",
      "# Integrity Errors\n",
      "# Total:\n",
      "#       Total number of integrity errors encountered across all job executions(including retries) of a workflow.\n",
      "# Failures:\n",
      "#       Number of failed jobs where the last job instance had integrity errors.\n",
      "Failures: 0 job failures had integrity errors\n",
      "\n",
      "Summary                       : /home/scitech/shared-data/pegasus-catdog-wf-master/scitech/pegasus/catVsdog-test-wf/run0008/statistics/summary.txt\n",
      "\n"
     ]
    }
   ],
   "source": [
    "try:\n",
    "    wf.plan(submit=True)\\\n",
    "    .wait()\\\n",
    "    .analyze()\\\n",
    "    .statistics()\n",
    "except PegasusClientError as e:\n",
    "    print(e.output)"
   ]
  },
  {
   "cell_type": "code",
   "execution_count": null,
   "metadata": {},
   "outputs": [],
   "source": []
  }
 ],
 "metadata": {
  "kernelspec": {
   "display_name": "Python 3",
   "language": "python",
   "name": "python3"
  },
  "language_info": {
   "codemirror_mode": {
    "name": "ipython",
    "version": 3
   },
   "file_extension": ".py",
   "mimetype": "text/x-python",
   "name": "python",
   "nbconvert_exporter": "python",
   "pygments_lexer": "ipython3",
   "version": "3.6.8"
  }
 },
 "nbformat": 4,
 "nbformat_minor": 4
}
