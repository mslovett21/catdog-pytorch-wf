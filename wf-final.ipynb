{
 "cells": [
  {
   "cell_type": "code",
   "execution_count": 1,
   "metadata": {},
   "outputs": [],
   "source": [
    "import logging, os, sys\n",
    "import numpy as np\n",
    "import urllib.request\n",
    "import shutil\n",
    "import subprocess\n",
    "import zipfile\n",
    "import pickle\n",
    "from pathlib import Path\n",
    "import pandas as pd\n",
    "from Pegasus.api import *\n",
    "\n",
    "from util_workflow import add_input_wf_files,create_file_objects\n",
    "from util_workflow import download_data, unzip_flatten_data, return_corrupted_files, return_input_files\n",
    "from util_workflow import split_data_filenames, add_input_tune_model,create_tar_and_pkl, create_pkl"
   ]
  },
  {
   "cell_type": "code",
   "execution_count": 2,
   "metadata": {},
   "outputs": [],
   "source": [
    "# --- Import Pegasus API ---\n",
    "from Pegasus.api import *\n",
    "logging.basicConfig(level=logging.DEBUG)\n",
    "props = Properties()\n",
    "props[\"dagman.retry\"] = \"2\"\n",
    "props[\"pegasus.transfer.arguments\"] = \"-m 1\"\n",
    "props.write()\n",
    "\n",
    "dataset_link = \"https://download.microsoft.com/download/3/E/1/3E1C3F21-ECDB-4869-8368-6DEBA77B919F/kagglecatsanddogs_3367a.zip\"\n",
    "zip_data = \"kagglecatsanddogs_3367a.zip\"\n",
    "directory_to_extract_to = \".\"\n",
    "\n",
    "DOWNLOAD_DATA = False\n",
    "DATASET_SIZE = 12\n",
    "DATA_DIR = \"dev_data/\"\n",
    "UTILS_DIR = \"utils/\"\n",
    "\n",
    "arch_names = [\"basicnet\", \"densenet121\", \"vgg16\"]\n",
    "CATS = \"PetImages/Cat\"\n",
    "DOGS = \"PetImages/Dog\"\n",
    "LABELS = {CATS: 0, DOGS: 1}\n",
    "NUM_EPOCHS = 4\n",
    "NUM_TRIALS = 3\n",
    "NUM_WORKERS = 8\n",
    "if not os.path.exists(DATA_DIR):\n",
    "    os.makedirs(DATA_DIR)   \n",
    "    \n",
    "if DOWNLOAD_DATA == True:\n",
    "    download_data(dataset_link)"
   ]
  },
  {
   "cell_type": "code",
   "execution_count": 3,
   "metadata": {},
   "outputs": [],
   "source": [
    "# Avoid corrupted files for now\n",
    "corrupted_files = return_corrupted_files(\"corrupted_files.txt\")\n",
    "# Get names of image files that will serve as inputs to the workflow\n",
    "input_file_names = return_input_files(corrupted_files, DATASET_SIZE, DATA_DIR, LABELS)\n",
    "\n",
    "\n",
    "#train 70%, val 10% and test 20%\n",
    "train_filenames,val_filenames,test_filenames, files_split_dict = split_data_filenames(input_file_names)\n",
    "\n",
    "workers_ids = [x for x in range(NUM_WORKERS)]\n",
    "train_workers, val_workers, test_workers, _ = split_data_filenames(workers_ids)\n",
    "num_train_workers, num_val_workers, num_test_workers, = len(train_workers), len(val_workers), len(test_workers)"
   ]
  },
  {
   "cell_type": "code",
   "execution_count": 4,
   "metadata": {},
   "outputs": [],
   "source": [
    "rc = ReplicaCatalog()\n",
    "\n",
    "# TRAIN, VAL and TEST data are processed separately\n",
    "input_preprocess1_train = add_input_wf_files(train_filenames, DATA_DIR,rc)\n",
    "input_preprocess1_val   = add_input_wf_files(val_filenames, DATA_DIR,rc)\n",
    "input_preprocess1_test  = add_input_wf_files(test_filenames, DATA_DIR,rc)\n",
    "rc.write()"
   ]
  },
  {
   "cell_type": "code",
   "execution_count": 5,
   "metadata": {},
   "outputs": [],
   "source": [
    "# Create and add our transformations to the TransformationCatalog.\n",
    "tc = TransformationCatalog()\n",
    "\n",
    "# Data preprocessing part 1 \n",
    "preprocess_tc1 = Transformation(\n",
    "                \"preprocess1\",\n",
    "                site=\"local\",\n",
    "                pfn = str(Path(\".\").parent.resolve() / \"bin/data_preprocessing1.py\"), \n",
    "                is_stageable= True\n",
    "            )\n",
    "\n",
    "# Data preprocessing part 1 \n",
    "preprocess_tc2 = Transformation(\n",
    "                \"preprocess2\",\n",
    "                site=\"local\",\n",
    "                pfn = str(Path(\".\").parent.resolve() / \"bin/data_preprocessing2_arg.py\"), \n",
    "               is_stageable= True\n",
    "            )\n",
    "\n",
    "tc.add_transformations(preprocess_tc1, preprocess_tc2)#tune_model_vgg16,choose_best_model)\n",
    "tc.write()"
   ]
  },
  {
   "cell_type": "code",
   "execution_count": 6,
   "metadata": {},
   "outputs": [],
   "source": [
    "# create the preproces jobs\n",
    "preprocess1_jobs_train = [Job(preprocess_tc1) for i in range(num_train_workers)]\n",
    "preprocess1_jobs_val   = [Job(preprocess_tc1) for i in range(num_val_workers)]\n",
    "preprocess1_jobs_test  = [Job(preprocess_tc1) for i in range(num_test_workers)]"
   ]
  },
  {
   "cell_type": "code",
   "execution_count": 7,
   "metadata": {},
   "outputs": [],
   "source": [
    "def add_job_attributes_1to1(jobs_list, input_files,postfix):\n",
    "    for i in range(len(input_files)):\n",
    "        curr = i % len(jobs_list)\n",
    "        jobs_list[curr].add_inputs(File(input_files[i]))\n",
    "        jobs_list[curr].add_outputs(File(input_files[i].split(\".\")[0] + postfix))\n",
    "    return jobs_list"
   ]
  },
  {
   "cell_type": "code",
   "execution_count": 8,
   "metadata": {},
   "outputs": [],
   "source": [
    "# Create FILE objects with correct postfixes\n",
    "postfix_job1 = \"_proc1.jpg\"\n",
    "preprocess1_jobs_train = add_job_attributes_1to1(preprocess1_jobs_train, train_filenames, postfix_job1)\n",
    "preprocess1_jobs_val   = add_job_attributes_1to1(preprocess1_jobs_val, val_filenames, postfix_job1)\n",
    "preprocess1_jobs_test  = add_job_attributes_1to1(preprocess1_jobs_test, test_filenames, postfix_job1)"
   ]
  },
  {
   "cell_type": "code",
   "execution_count": 9,
   "metadata": {},
   "outputs": [],
   "source": [
    "#preprocess2_jobs_train = [Job(preprocess_tc2).add_args(\"train\") for i in range(num_train_workers)]\n",
    "preprocess2_jobs_val   = [Job(preprocess_tc2).add_args(\"val\") for i in range(num_val_workers)]\n",
    "#preprocess2_jobs_test  = [Job(preprocess_tc2).add_args(\"test\") for i in range(num_test_workers)]"
   ]
  },
  {
   "cell_type": "code",
   "execution_count": 10,
   "metadata": {},
   "outputs": [],
   "source": [
    "def add_job_attributes_1torange(jobs_list, input_files,range_num,prefix,postfix):\n",
    "    for i in range(len(input_files)):\n",
    "        curr = i % len(jobs_list)\n",
    "        print(input_files[i])\n",
    "        jobs_list[curr].add_inputs(File(input_files[i]))\n",
    "        for j in range(range_num):\n",
    "            print(prefix + input_files[i].split(\".\")[0]\\\n",
    "                                             + postfix + str(j)+ \".jpg\")\n",
    "            jobs_list[curr].add_outputs(File(prefix + input_files[i].split(\".\")[0]\\\n",
    "                                             + postfix + str(j)+ \".jpg\"))\n",
    "    return jobs_list   "
   ]
  },
  {
   "cell_type": "code",
   "execution_count": 11,
   "metadata": {},
   "outputs": [
    {
     "name": "stdout",
     "output_type": "stream",
     "text": [
      "Cat_10303.jpg\n",
      "val_Cat_10303_proc2_0.jpg\n",
      "val_Cat_10303_proc2_1.jpg\n",
      "val_Cat_10303_proc2_2.jpg\n",
      "val_Cat_10303_proc2_3.jpg\n"
     ]
    }
   ],
   "source": [
    "range_num = 4\n",
    "postfix = \"_proc2_\"\n",
    "\n",
    "#preprocess2_jobs_train = add_job_attributes_range(preprocess2_jobs_train, \\\n",
    " #                                           output_preprocess1_train,output_preprocess2_train,range_num)\n",
    "\n",
    "preprocess2_jobs_val = add_job_attributes_1torange(preprocess2_jobs_val,val_filenames,range_num, \"val_\", postfix)\n",
    "\n",
    "#preprocess2_jobs_test = add_job_attributes_range(preprocess2_jobs_test, \\\n",
    " #                                           output_preprocess1_test,output_preprocess2_test,range_num)"
   ]
  },
  {
   "cell_type": "code",
   "execution_count": 12,
   "metadata": {},
   "outputs": [
    {
     "data": {
      "text/plain": [
       "<Pegasus.api.workflow.Workflow at 0x7f5fc765d2b0>"
      ]
     },
     "execution_count": 12,
     "metadata": {},
     "output_type": "execute_result"
    }
   ],
   "source": [
    "# Set infer_dependencies=True so that they are inferred based on job input and output file usage.\n",
    "wf = Workflow(\"catVsdog-test-wf\", infer_dependencies=True)\n",
    "wf.add_jobs(*preprocess1_jobs_train,*preprocess1_jobs_val,*preprocess1_jobs_test,*preprocess2_jobs_val)\n",
    "           #*preprocess2_jobs_train,*preprocess2_jobs_val, *preprocess2_jobs_test )\n"
   ]
  },
  {
   "cell_type": "code",
   "execution_count": 13,
   "metadata": {
    "scrolled": true
   },
   "outputs": [
    {
     "name": "stderr",
     "output_type": "stream",
     "text": [
      "\n",
      "################\n",
      "# pegasus-plan #\n",
      "################\n",
      "2021.02.11 05:19:36.675 UTC:\n",
      "2021.02.11 05:19:36.680 UTC:   -----------------------------------------------------------------------\n",
      "2021.02.11 05:19:36.685 UTC:   File for submitting this DAG to HTCondor           : catVsdog-test-wf-0.dag.condor.sub\n",
      "2021.02.11 05:19:36.691 UTC:   Log of DAGMan debugging messages                 : catVsdog-test-wf-0.dag.dagman.out\n",
      "2021.02.11 05:19:36.696 UTC:   Log of HTCondor library output                     : catVsdog-test-wf-0.dag.lib.out\n",
      "2021.02.11 05:19:36.701 UTC:   Log of HTCondor library error messages             : catVsdog-test-wf-0.dag.lib.err\n",
      "2021.02.11 05:19:36.706 UTC:   Log of the life of condor_dagman itself          : catVsdog-test-wf-0.dag.dagman.log\n",
      "2021.02.11 05:19:36.711 UTC:\n",
      "2021.02.11 05:19:36.716 UTC:   -no_submit given, not submitting DAG to HTCondor.  You can do this with:\n",
      "2021.02.11 05:19:36.727 UTC:   -----------------------------------------------------------------------\n",
      "2021.02.11 05:19:37.313 UTC:   Your database is compatible with Pegasus version: 5.1.0dev\n",
      "2021.02.11 05:19:38.063 UTC:   Created Pegasus database in: sqlite:////home/scitech/shared-data/pegasus-catdog-wf-master/scitech/pegasus/catVsdog-test-wf/run0020/catVsdog-test-wf-0.replicas.db\n",
      "2021.02.11 05:19:38.068 UTC:   Your database is compatible with Pegasus version: 5.1.0dev\n",
      "2021.02.11 05:19:38.116 UTC:   Output replica catalog set to jdbc:sqlite:/home/scitech/shared-data/pegasus-catdog-wf-master/scitech/pegasus/catVsdog-test-wf/run0020/catVsdog-test-wf-0.replicas.db\n",
      "[WARNING]  Submitting to condor catVsdog-test-wf-0.dag.condor.sub\n",
      "2021.02.11 05:19:38.584 UTC:   Time taken to execute is 2.262 seconds\n",
      "\n",
      "Your workflow has been started and is running in the base directory:\n",
      "\n",
      "/home/scitech/shared-data/pegasus-catdog-wf-master/scitech/pegasus/catVsdog-test-wf/run0020\n",
      "\n",
      "*** To monitor the workflow you can run ***\n",
      "\n",
      "pegasus-status -l /home/scitech/shared-data/pegasus-catdog-wf-master/scitech/pegasus/catVsdog-test-wf/run0020\n",
      "\n",
      "\n",
      "*** To remove your workflow run ***\n",
      "\n",
      "pegasus-remove /home/scitech/shared-data/pegasus-catdog-wf-master/scitech/pegasus/catVsdog-test-wf/run0020\n",
      "\n"
     ]
    },
    {
     "name": "stdout",
     "output_type": "stream",
     "text": [
      "[\u001b[1;32m######################\u001b[0m--------------]  61.1% ..Running (\u001b[1;32mCompleted: 11\u001b[0m, \u001b[1;33mQueued: 0\u001b[0m, \u001b[1;36mRunning: 1\u001b[0m, \u001b[1;31mFailed: 0\u001b[0m)"
     ]
    },
    {
     "name": "stderr",
     "output_type": "stream",
     "text": [
      "\n",
      "####################\n",
      "# pegasus-analyzer #\n",
      "####################\n"
     ]
    },
    {
     "name": "stdout",
     "output_type": "stream",
     "text": [
      "\n",
      "Cancelling Client.wait(). Your workflow is still running and can be monitored with pegasus-status\n"
     ]
    },
    {
     "name": "stderr",
     "output_type": "stream",
     "text": [
      "Your database is compatible with Pegasus version: 5.1.0dev\n",
      "\n",
      "************************************Summary*************************************\n",
      "\n",
      "Submit Directory   : /home/scitech/shared-data/pegasus-catdog-wf-master/scitech/pegasus/catVsdog-test-wf/run0020\n",
      "Total jobs         :     18 (100.00%)\n",
      "# jobs succeeded   :     11 (61.11%)\n",
      "# jobs failed      :      0 (0.00%)\n",
      "# jobs held        :      1 (5.56%)\n",
      "# jobs unsubmitted :      7 (38.89%)\n",
      "\n",
      "*******************************Held jobs' details*******************************\n",
      "\n",
      "=============================preprocess2_ID0000009==============================\n",
      "\n",
      "submit file            : preprocess2_ID0000009.sub\n",
      "last_job_instance_id   : 12\n",
      "reason                 :  Error from slot9@cae6425c697f: STARTER at 127.0.0.1 failed to send file(s) to <127.0.0.1:9618>: error reading from /var/lib/condor/execute/dir_194316/val_Cat_10303_proc2_3.jpg: (errno 2) No such file or directory; SHADOW failed to receive file(s) from <127.0.0.1:32845>\n",
      "\n",
      "\n",
      "######################\n",
      "# pegasus-statistics #\n",
      "######################\n"
     ]
    },
    {
     "name": "stdout",
     "output_type": "stream",
     "text": [
      "\n",
      "pegasus-monitord still running. Please wait for it to complete.\n",
      "\n"
     ]
    }
   ],
   "source": [
    "try:\n",
    "    wf.plan(submit=True)\\\n",
    "    .wait()\\\n",
    "    .analyze()\\\n",
    "    .statistics()\n",
    "except PegasusClientError as e:\n",
    "    print(e.output)"
   ]
  },
  {
   "cell_type": "code",
   "execution_count": 14,
   "metadata": {},
   "outputs": [
    {
     "name": "stderr",
     "output_type": "stream",
     "text": [
      "\n",
      "####################\n",
      "# pegasus-graphviz #\n",
      "####################\n"
     ]
    },
    {
     "data": {
      "text/plain": [
       "<Pegasus.api.workflow.Workflow at 0x7f5fc765d2b0>"
      ]
     },
     "execution_count": 14,
     "metadata": {},
     "output_type": "execute_result"
    }
   ],
   "source": [
    "wf.graph(include_files=True, no_simplify=True, label=\"xform-id\", output=\"graph_2prejobs.dot\")"
   ]
  },
  {
   "cell_type": "code",
   "execution_count": 15,
   "metadata": {},
   "outputs": [],
   "source": [
    "#! sudo yum install graphviz -y\n",
    "#! cat graph.dot\n",
    "#! dot -Tpng graph.dot -o graph.png"
   ]
  },
  {
   "cell_type": "code",
   "execution_count": null,
   "metadata": {},
   "outputs": [],
   "source": [
    "#! cat graph.dot"
   ]
  },
  {
   "cell_type": "code",
   "execution_count": null,
   "metadata": {},
   "outputs": [],
   "source": [
    "! dot -Tpng graph_2prejobs.dot -o graph_2prejobs.png"
   ]
  },
  {
   "cell_type": "code",
   "execution_count": null,
   "metadata": {},
   "outputs": [],
   "source": [
    "from IPython.display import Image\n",
    "Image(filename='graph_2prejobs.png')"
   ]
  },
  {
   "cell_type": "code",
   "execution_count": null,
   "metadata": {},
   "outputs": [],
   "source": []
  },
  {
   "cell_type": "code",
   "execution_count": null,
   "metadata": {},
   "outputs": [],
   "source": []
  }
 ],
 "metadata": {
  "kernelspec": {
   "display_name": "Python 3",
   "language": "python",
   "name": "python3"
  },
  "language_info": {
   "codemirror_mode": {
    "name": "ipython",
    "version": 3
   },
   "file_extension": ".py",
   "mimetype": "text/x-python",
   "name": "python",
   "nbconvert_exporter": "python",
   "pygments_lexer": "ipython3",
   "version": "3.6.8"
  }
 },
 "nbformat": 4,
 "nbformat_minor": 4
}
