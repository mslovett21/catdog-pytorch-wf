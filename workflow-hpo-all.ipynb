{
 "cells": [
  {
   "cell_type": "code",
   "execution_count": 3,
   "metadata": {},
   "outputs": [],
   "source": [
    "import logging, os, sys\n",
    "import numpy as np\n",
    "import urllib.request\n",
    "import shutil\n",
    "import subprocess\n",
    "import zipfile\n",
    "import pickle\n",
    "from pathlib import Path\n",
    "import pandas as pd\n",
    "from Pegasus.api import *"
   ]
  },
  {
   "cell_type": "code",
   "execution_count": 4,
   "metadata": {},
   "outputs": [],
   "source": [
    "import glob, os\n",
    "import cv2"
   ]
  },
  {
   "cell_type": "markdown",
   "metadata": {},
   "source": [
    "# to requirements .txt file\n",
    "\n",
    "! sudo pip3 install --upgrade pip <br>\n",
    "! sudo pip3 install opencv-python <br>\n",
    "! sudo pip3 install --upgrade setuptools <br>\n",
    "! sudo pip3 install opencv-python <br>\n",
    "! sudo pip3 install optuna==2.0.0 <br>\n",
    "! sudo pip3 install matplotlib <br>\n",
    "! sudo pip3 install torch <br>\n",
    "! sudo pip3 install scikit-image <br>\n",
    "! sudo pip3 install torchvision"
   ]
  },
  {
   "cell_type": "code",
   "execution_count": 5,
   "metadata": {},
   "outputs": [],
   "source": [
    "from util_workflow import download_data, unzip_flatten_data, return_corrupted_files, return_input_files\n",
    "from util_workflow import add_input_wf_files, add_output_job1, add_output_job2, return_filenames_job2\n",
    "from util_workflow import split_data_filenames, add_input_tune_model,create_tar_and_pkl, create_pkl"
   ]
  },
  {
   "cell_type": "code",
   "execution_count": 6,
   "metadata": {},
   "outputs": [],
   "source": [
    "# --- Import Pegasus API ---\n",
    "from Pegasus.api import *\n",
    "logging.basicConfig(level=logging.DEBUG)\n",
    "props = Properties()\n",
    "props[\"dagman.retry\"] = \"2\"\n",
    "props[\"pegasus.transfer.arguments\"] = \"-m 1\"\n",
    "props.write()"
   ]
  },
  {
   "cell_type": "code",
   "execution_count": 7,
   "metadata": {},
   "outputs": [],
   "source": [
    "dataset_link = \"https://download.microsoft.com/download/3/E/1/3E1C3F21-ECDB-4869-8368-6DEBA77B919F/kagglecatsanddogs_3367a.zip\"\n",
    "zip_data = \"kagglecatsanddogs_3367a.zip\"\n",
    "directory_to_extract_to = \".\"\n",
    "\n",
    "DOWNLOAD_DATA = False\n",
    "DATASET_SIZE = 12\n",
    "DATA_DIR = \"dev_data/\"\n",
    "UTILS_DIR = \"utils/\"\n",
    "DATA_SPLIT_FILE = \"data_split_id_list.pickle\"\n",
    "\n",
    "arch_names = [\"basicnet\", \"densenet121\", \"vgg16\"]\n",
    "CATS = \"PetImages/Cat\"\n",
    "DOGS = \"PetImages/Dog\"\n",
    "LABELS = {CATS: 0, DOGS: 1}\n",
    "NUM_EPOCHS = 4\n",
    "NUM_TRIALS = 3\n",
    "\n",
    "if not os.path.exists(DATA_DIR):\n",
    "    os.makedirs(DATA_DIR)   \n",
    "    \n",
    "if DOWNLOAD_DATA == True:\n",
    "    download_data(dataset_link)"
   ]
  },
  {
   "cell_type": "code",
   "execution_count": 8,
   "metadata": {},
   "outputs": [],
   "source": [
    "# Avoid corrupted files for now\n",
    "corrupted_files = return_corrupted_files(\"corrupted_files.txt\")\n",
    "\n",
    "# Get names of image files that will serve as inputs to the workflow\n",
    "input_file_names = return_input_files(corrupted_files, DATASET_SIZE, DATA_DIR, LABELS)\n",
    "\n",
    "rc = ReplicaCatalog()\n",
    "\n",
    "input_preprocessing1 = add_input_wf_files(input_file_names, DATA_DIR,rc)\n",
    "input_preprocessing2 = add_output_job1(input_file_names)\n",
    "\n",
    "output_filenames_preprocessing2 =  return_filenames_job2(input_file_names)\n",
    "output_preprocessing2 = add_output_job2(output_filenames_preprocessing2)\n",
    "\n",
    "\n",
    "train_filenames,val_filenames,test_filenames,files_split_dict = split_data_filenames(output_filenames_preprocessing2)\n",
    "\n",
    "data_split_filenames = train_filenames + val_filenames + test_filenames\n",
    "output_data_split = add_input_tune_model(data_split_filenames)\n",
    "\n",
    "tune_model_files = train_filenames + val_filenames\n",
    "input_tune_model = add_input_tune_model(tune_model_files)"
   ]
  },
  {
   "cell_type": "code",
   "execution_count": 9,
   "metadata": {},
   "outputs": [
    {
     "data": {
      "text/plain": [
       "<Pegasus.api.replica_catalog.ReplicaCatalog at 0x7f8fca37cf60>"
      ]
     },
     "execution_count": 9,
     "metadata": {},
     "output_type": "execute_result"
    }
   ],
   "source": [
    "with open(DATA_SPLIT_FILE, 'wb') as filename:\n",
    "    pickle.dump(files_split_dict, filename)\n",
    "    \n",
    "data_split_file = File(DATA_SPLIT_FILE)\n",
    "rc.add_replica(\"local\", DATA_SPLIT_FILE, Path(\".\").resolve() / DATA_SPLIT_FILE)"
   ]
  },
  {
   "cell_type": "code",
   "execution_count": 10,
   "metadata": {},
   "outputs": [
    {
     "data": {
      "text/plain": [
       "<Pegasus.api.replica_catalog.ReplicaCatalog at 0x7f8fca37cf60>"
      ]
     },
     "execution_count": 10,
     "metadata": {},
     "output_type": "execute_result"
    }
   ],
   "source": [
    "# ADDITIONAL PYTHON SCRIPS NEEDED BY TUNE_MODEL\n",
    "data_loader_fn = \"data_loader.py\"\n",
    "data_loader_file = File(data_loader_fn )\n",
    "rc.add_replica(\"local\", data_loader_fn, os.path.join(os.getcwd(), UTILS_DIR + data_loader_fn ))\n",
    "\n",
    "model_selction_fn = \"model_selection.py\"\n",
    "model_selction_file = File(model_selction_fn )\n",
    "rc.add_replica(\"local\", model_selction_fn, os.path.join(os.getcwd(), UTILS_DIR + model_selction_fn ))\n",
    "\n",
    "util_checkpoint_fn = \"util_checkpoint.py\"\n",
    "util_checkpoint_file = File(util_checkpoint_fn )\n",
    "rc.add_replica(\"local\", util_checkpoint_fn, os.path.join(os.getcwd(), UTILS_DIR + util_checkpoint_fn ))\n",
    "\n",
    "early_stopping_fn = \"pytorchtools.py\"\n",
    "early_stopping_file = File(early_stopping_fn )\n",
    "rc.add_replica(\"local\", early_stopping_fn, os.path.join(os.getcwd(), UTILS_DIR + early_stopping_fn ))"
   ]
  },
  {
   "cell_type": "code",
   "execution_count": 11,
   "metadata": {},
   "outputs": [
    {
     "data": {
      "text/plain": [
       "<Pegasus.api.replica_catalog.ReplicaCatalog at 0x7f8fca37cf60>"
      ]
     },
     "execution_count": 11,
     "metadata": {},
     "output_type": "execute_result"
    }
   ],
   "source": [
    "# FILES FOR TUNE_MODEL.py BASICNET\n",
    "#----------------------------------------------------------------------------------------------------------------\n",
    "basicnet_pkl = create_pkl(\"basicnet\")\n",
    "final_basicnet_pkl =  \"final_hpo_study_checkpoint_basicnet.pkl\"\n",
    "basicnet_pkl_file = File(basicnet_pkl)\n",
    "rc.add_replica(\"local\", basicnet_pkl, os.path.join(os.getcwd(), basicnet_pkl))\n",
    "\n",
    "#final_basicnet_pkl_file = File(final_basicnet_pkl)"
   ]
  },
  {
   "cell_type": "code",
   "execution_count": 12,
   "metadata": {},
   "outputs": [],
   "source": [
    "\n",
    "\n",
    "# FILES FOR TUNE_MODEL.py VGG 16\n",
    "#----------------------------------------------------------------------------------------------------------------\n",
    "vgg16_pkl = create_pkl(\"vgg16\")\n",
    "final_vgg16_pkl =  \"final_hpo_study_checkpoint_vgg16.pkl\"\n",
    "\n",
    "vgg16_pkl_file = File(vgg16_pkl)\n",
    "rc.add_replica(\"local\", vgg16_pkl, os.path.join(os.getcwd(), vgg16_pkl))\n",
    "\n",
    "final_vgg16_pkl_file = File(final_vgg16_pkl)\n",
    "\n",
    "# FILES FOR TUNE_MODEL.py densenet121\n",
    "#----------------------------------------------------------------------------------------------------------------\n",
    "densenet121_pkl = create_pkl(\"densenet121\")\n",
    "final_densenet121_pkl =  \"final_hpo_study_checkpoint_densenet121.pkl\"\n",
    "\n",
    "densenet121_pkl_file = File(densenet121_pkl)\n",
    "rc.add_replica(\"local\", densenet121_pkl, os.path.join(os.getcwd(), densenet121_pkl))\n",
    "\n",
    "final_densenet121_pkl_file = File(final_densenet121_pkl)\n",
    "\n",
    "\n",
    "rc.write()"
   ]
  },
  {
   "cell_type": "code",
   "execution_count": 13,
   "metadata": {},
   "outputs": [],
   "source": [
    "# Create and add our transformations to the TransformationCatalog.\n",
    "tc = TransformationCatalog()\n",
    "\n",
    "# Data preprocessing part 1 \n",
    "preprocess1 = Transformation(\n",
    "                \"preprocess1\",\n",
    "                site=\"local\",\n",
    "                pfn = str(Path(\".\").parent.resolve() / \"bin/data_preprocessing1.py\"), \n",
    "                is_stageable= True\n",
    "            )\n",
    "\n",
    "# Data preprocessing part 2\n",
    "preprocess2 = Transformation(\n",
    "                    \"preprocess2\", \n",
    "                    site = \"local\", \n",
    "                    pfn = str(Path(\".\").parent.resolve() / \"bin/data_preprocessing2.py\"), \n",
    "                    is_stageable = True\n",
    "                )\n",
    "\n",
    "# Data Split\n",
    "data_split = Transformation(\n",
    "                    \"data_split\", \n",
    "                    site = \"local\", \n",
    "                    pfn = str(Path(\".\").parent.resolve() / \"bin/data_split.py\"), \n",
    "                    is_stageable = True\n",
    "                )\n",
    "\n",
    "\n",
    "# Tune models\n",
    "tune_model_basicnet = Transformation(\n",
    "                    \"tune_model_basicnet\", \n",
    "                    site = \"local\", \n",
    "                    pfn = str(Path(\".\").parent.resolve() / \"bin/tune_model.py\"), \n",
    "                    is_stageable = True\n",
    "                )\n",
    "\n",
    "tune_model_vgg16 = Transformation(\n",
    "                    \"tune_model_vgg16\", \n",
    "                    site = \"local\", \n",
    "                    pfn = str(Path(\".\").parent.resolve() / \"bin/tune_model.py\"), \n",
    "                    is_stageable = True\n",
    "                )\n",
    "\n",
    "tune_model_densenet121 = Transformation(\n",
    "                    \"tune_model_densenet121\", \n",
    "                    site = \"local\", \n",
    "                    pfn = str(Path(\".\").parent.resolve() / \"bin/tune_model.py\"), \n",
    "                    is_stageable = True\n",
    "                )\n",
    "\n",
    "# Choose best model and hyperparameters\n",
    "choose_best_model = Transformation(\n",
    "                    \"choose_best_model\", \n",
    "                    site = \"local\", \n",
    "                    pfn = str(Path(\".\").parent.resolve() / \"bin/choose_best_model.py\"), \n",
    "                    is_stageable = True\n",
    "                )\n",
    "\n",
    "tc.add_transformations(preprocess1, preprocess2,data_split,tune_model_basicnet,\n",
    "                       tune_model_vgg16,tune_model_densenet121, choose_best_model)\n",
    "tc.write()"
   ]
  },
  {
   "cell_type": "code",
   "execution_count": 68,
   "metadata": {},
   "outputs": [],
   "source": [
    "# --- Workflow -----------------------------------------------------------------\n",
    "# Set infer_dependencies=True so that they are inferred based on job input and output file usage.\n",
    "wf = Workflow(\"catVsdog-test-wf\", infer_dependencies=True)\n",
    "\n",
    "# Create Jobs. These objects store just that. The transformation (executable) used by the job.\n",
    "#The arguments passed to the executable. The input files used and the output files produced. \n",
    "\n",
    "\n",
    "job_preprocess_1 = Job(preprocess1)\\\n",
    "                    .add_inputs(*input_preprocessing1)\\\n",
    "                    .add_outputs(*input_preprocessing2)\n",
    "\n",
    "\n",
    "job_preprocess_2 = Job(preprocess2)\\\n",
    "                    .add_inputs(*input_preprocessing2)\\\n",
    "                    .add_outputs(*output_preprocessing2 )\n",
    "\n",
    "\n",
    "job_data_split = Job(data_split)\\\n",
    "                    .add_inputs(data_split_file,*output_preprocessing2)\\\n",
    "                    .add_outputs(*output_data_split) \n",
    "\n",
    "\n",
    "job_tune_model_basicnet = Job(tune_model_basicnet)\\\n",
    "                    .add_args(\"-a\",\"basicnet\",\"-arch\", \"basicnet\", NUM_EPOCHS, NUM_TRIALS)\\\n",
    "                    .add_checkpoint(basicnet_pkl_file, stage_out=True)\\\n",
    "                    .add_inputs(*input_tune_model,data_loader_file,model_selction_file, early_stopping_file,util_checkpoint_file )\\\n",
    "                    .add_outputs(final_basicnet_pkl_file)\\\n",
    "                    .set_stdout(\"output_basicnet.txt\")\\\n",
    "                    .add_profiles(Namespace.PEGASUS, key=\"checkpoint.time\", value=1)\\\n",
    "                    .add_profiles(Namespace.PEGASUS, key=\"maxwalltime\", value=2)\n",
    "\n",
    "\n",
    "job_tune_model_vgg16 = Job(tune_model_vgg16)\\\n",
    "                    .add_args(\"-a\",\"vgg16\",\"-arch\", \"vgg16\", NUM_EPOCHS, NUM_TRIALS)\\\n",
    "                    .add_checkpoint(vgg16_pkl_file, stage_out=True)\\\n",
    "                    .add_inputs(*input_tune_model,data_loader_file,model_selction_file, early_stopping_file,util_checkpoint_file )\\\n",
    "                    .add_outputs(final_vgg16_pkl_file)\\\n",
    "                    .set_stdout(\"output_vgg16.txt\")\\\n",
    "                    .add_profiles(Namespace.PEGASUS, key=\"checkpoint.time\", value=1)\\\n",
    "                    .add_profiles(Namespace.PEGASUS, key=\"maxwalltime\", value=2)\n",
    "\n",
    "job_tune_model_densenet121 = Job(tune_model_densenet121)\\\n",
    "                    .add_args(\"-a\",\"densenet121\",\"-arch\", \"densenet121\", NUM_EPOCHS, NUM_TRIALS)\\\n",
    "                    .add_checkpoint(densenet121_pkl_file, stage_out=True)\\\n",
    "                    .add_inputs(*input_tune_model,data_loader_file,model_selction_file, early_stopping_file,util_checkpoint_file )\\\n",
    "                    .add_outputs(final_densenet121_pkl_file)\\\n",
    "                    .set_stdout(\"output_densenet121.txt\")\\\n",
    "                    .add_profiles(Namespace.PEGASUS, key=\"checkpoint.time\", value=1)\\\n",
    "                    .add_profiles(Namespace.PEGASUS, key=\"maxwalltime\", value=2)\n",
    "\n",
    "job_choose_best_model = Job(choose_best_model)\\\n",
    "                    .add_args(\"-sf\",\"final_hpo_study_checkpoint_vgg16.pkl\",\"final_hpo_study_checkpoint_basicnet.pkl\",\"final_hpo_study_checkpoint_densenet121.pkl\")\\\n",
    "                    .add_inputs(final_vgg16_pkl_file,final_densenet121_pkl_file,final_basicnet_pkl_file)\\\n",
    "                    .add_outputs(File(\"best_model.txt\")) "
   ]
  },
  {
   "cell_type": "code",
   "execution_count": 69,
   "metadata": {},
   "outputs": [
    {
     "data": {
      "text/plain": [
       "<Pegasus.api.workflow.Workflow at 0x7fad411c3ef0>"
      ]
     },
     "execution_count": 69,
     "metadata": {},
     "output_type": "execute_result"
    }
   ],
   "source": [
    "wf.add_jobs(\n",
    "    job_preprocess_1,\n",
    "    job_preprocess_2,\n",
    "    job_data_split,\n",
    "    job_tune_model_basicnet,\n",
    "    job_tune_model_vgg16,\n",
    "    job_tune_model_densenet121,\n",
    "    job_choose_best_model\n",
    ")\n"
   ]
  },
  {
   "cell_type": "code",
   "execution_count": 70,
   "metadata": {},
   "outputs": [
    {
     "name": "stderr",
     "output_type": "stream",
     "text": [
      "Plan:\n",
      "[main] WARN  schema.JsonMetaSchema  - Unknown keyword $defs - you should define your own Meta Schema. If the keyword is irrelevant for validation, just use a NonValidationKeyword\n",
      "[main] WARN  schema.JsonMetaSchema  - Unknown keyword additionalItems - you should define your own Meta Schema. If the keyword is irrelevant for validation, just use a NonValidationKeyword\n",
      "[main] WARN  schema.JsonMetaSchema  - Unknown keyword examples - you should define your own Meta Schema. If the keyword is irrelevant for validation, just use a NonValidationKeyword\n",
      "2020.09.14 15:49:24.082 UTC:    \n",
      "2020.09.14 15:49:24.087 UTC:   ----------------------------------------------------------------------- \n",
      "2020.09.14 15:49:24.093 UTC:   File for submitting this DAG to HTCondor           : catVsdog-test-wf-0.dag.condor.sub \n",
      "2020.09.14 15:49:24.098 UTC:   Log of DAGMan debugging messages                 : catVsdog-test-wf-0.dag.dagman.out \n",
      "2020.09.14 15:49:24.103 UTC:   Log of HTCondor library output                     : catVsdog-test-wf-0.dag.lib.out \n",
      "2020.09.14 15:49:24.108 UTC:   Log of HTCondor library error messages             : catVsdog-test-wf-0.dag.lib.err \n",
      "2020.09.14 15:49:24.113 UTC:   Log of the life of condor_dagman itself          : catVsdog-test-wf-0.dag.dagman.log \n",
      "2020.09.14 15:49:24.118 UTC:    \n",
      "2020.09.14 15:49:24.123 UTC:   -no_submit given, not submitting DAG to HTCondor.  You can do this with: \n",
      "2020.09.14 15:49:24.134 UTC:   ----------------------------------------------------------------------- \n",
      "2020.09.14 15:49:24.842 UTC:   Your database is compatible with Pegasus version: 5.0.0dev \n",
      "2020.09.14 15:49:25.620 UTC:   Created Pegasus database in: sqlite:////home/scitech/shared-data/pegasus-catdog-wf-master/scitech/pegasus/catVsdog-test-wf/run0001/catVsdog-test-wf-0.replicas.db \n",
      "2020.09.14 15:49:25.625 UTC:   Your database is compatible with Pegasus version: 5.0.0dev \n",
      "2020.09.14 15:49:25.671 UTC:   Output replica catalog set to jdbc:sqlite:/home/scitech/shared-data/pegasus-catdog-wf-master/scitech/pegasus/catVsdog-test-wf/run0001/catVsdog-test-wf-0.replicas.db \n",
      "2020.09.14 15:49:25.891 UTC:   Submitting to condor catVsdog-test-wf-0.dag.condor.sub \n",
      "2020.09.14 15:49:25.921 UTC:    \n",
      "2020.09.14 15:49:25.927 UTC:   Your workflow has been started and is running in the base directory: \n",
      "2020.09.14 15:49:25.932 UTC:    \n",
      "2020.09.14 15:49:25.937 UTC:   /home/scitech/shared-data/pegasus-catdog-wf-master/scitech/pegasus/catVsdog-test-wf/run0001 \n",
      "2020.09.14 15:49:25.942 UTC:    \n",
      "2020.09.14 15:49:25.947 UTC:   *** To monitor the workflow you can run *** \n",
      "2020.09.14 15:49:25.953 UTC:    \n",
      "2020.09.14 15:49:25.958 UTC:   pegasus-status -l /home/scitech/shared-data/pegasus-catdog-wf-master/scitech/pegasus/catVsdog-test-wf/run0001 \n",
      "2020.09.14 15:49:25.963 UTC:    \n",
      "2020.09.14 15:49:25.968 UTC:   *** To remove your workflow run *** \n",
      "2020.09.14 15:49:25.973 UTC:    \n",
      "2020.09.14 15:49:25.978 UTC:   pegasus-remove /home/scitech/shared-data/pegasus-catdog-wf-master/scitech/pegasus/catVsdog-test-wf/run0001 \n",
      "2020.09.14 15:49:26.916 UTC:   Time taken to execute is 2.512 seconds \n",
      " \n",
      "\n"
     ]
    },
    {
     "name": "stdout",
     "output_type": "stream",
     "text": [
      "[\u001b[1;32m##################################################\u001b[0m] 100.0% ..Success (\u001b[1;32mCompleted: 33\u001b[0m, \u001b[1;33mQueued: 0\u001b[0m, \u001b[1;36mRunning: 0\u001b[0m, \u001b[1;31mFailed: 0\u001b[0m)\n"
     ]
    },
    {
     "name": "stderr",
     "output_type": "stream",
     "text": [
      "Analyzer:\n",
      "Your database is compatible with Pegasus version: 5.0.0dev\n",
      "\n",
      "************************************Summary*************************************\n",
      "\n",
      " Submit Directory   : /home/scitech/shared-data/pegasus-catdog-wf-master/scitech/pegasus/catVsdog-test-wf/run0001\n",
      " Total jobs         :     33 (100.00%)\n",
      " # jobs succeeded   :     33 (100.00%)\n",
      " # jobs failed      :      0 (0.00%)\n",
      " # jobs held        :      0 (0.00%)\n",
      " # jobs unsubmitted :      0 (0.00%)\n",
      "\n",
      " \n",
      "\n",
      "Statistics:\n",
      "Your database is compatible with Pegasus version: 5.0.0dev\n",
      "\n",
      "#\n",
      "# Pegasus Workflow Management System - http://pegasus.isi.edu\n",
      "#\n",
      "# Workflow summary:\n",
      "#   Summary of the workflow execution. It shows total\n",
      "#   tasks/jobs/sub workflows run, how many succeeded/failed etc.\n",
      "#   In case of hierarchical workflow the calculation shows the\n",
      "#   statistics across all the sub workflows.It shows the following\n",
      "#   statistics about tasks, jobs and sub workflows.\n",
      "#     * Succeeded - total count of succeeded tasks/jobs/sub workflows.\n",
      "#     * Failed - total count of failed tasks/jobs/sub workflows.\n",
      "#     * Incomplete - total count of tasks/jobs/sub workflows that are\n",
      "#       not in succeeded or failed state. This includes all the jobs\n",
      "#       that are not submitted, submitted but not completed etc. This\n",
      "#       is calculated as  difference between 'total' count and sum of\n",
      "#       'succeeded' and 'failed' count.\n",
      "#     * Total - total count of tasks/jobs/sub workflows.\n",
      "#     * Retries - total retry count of tasks/jobs/sub workflows.\n",
      "#     * Total+Retries - total count of tasks/jobs/sub workflows executed\n",
      "#       during workflow run. This is the cumulative of retries,\n",
      "#       succeeded and failed count.\n",
      "# Workflow wall time:\n",
      "#   The wall time from the start of the workflow execution to the end as\n",
      "#   reported by the DAGMAN.In case of rescue dag the value is the\n",
      "#   cumulative of all retries.\n",
      "# Cumulative job wall time:\n",
      "#   The sum of the wall time of all jobs as reported by kickstart.\n",
      "#   In case of job retries the value is the cumulative of all retries.\n",
      "#   For workflows having sub workflow jobs (i.e SUBDAG and SUBDAX jobs),\n",
      "#   the wall time value includes jobs from the sub workflows as well.\n",
      "# Cumulative job wall time as seen from submit side:\n",
      "#   The sum of the wall time of all jobs as reported by DAGMan.\n",
      "#   This is similar to the regular cumulative job wall time, but includes\n",
      "#   job management overhead and delays. In case of job retries the value\n",
      "#   is the cumulative of all retries. For workflows having sub workflow\n",
      "#   jobs (i.e SUBDAG and SUBDAX jobs), the wall time value includes jobs\n",
      "#   from the sub workflows as well.\n",
      "# Cumulative job badput wall time:\n",
      "#   The sum of the wall time of all failed jobs as reported by kickstart.\n",
      "#   In case of job retries the value is the cumulative of all retries.\n",
      "#   For workflows having sub workflow jobs (i.e SUBDAG and SUBDAX jobs),\n",
      "#   the wall time value includes jobs from the sub workflows as well.\n",
      "# Cumulative job badput wall time as seen from submit side:\n",
      "#   The sum of the wall time of all failed jobs as reported by DAGMan.\n",
      "#   This is similar to the regular cumulative job badput wall time, but includes\n",
      "#   job management overhead and delays. In case of job retries the value\n",
      "#   is the cumulative of all retries. For workflows having sub workflow\n",
      "#   jobs (i.e SUBDAG and SUBDAX jobs), the wall time value includes jobs\n",
      "#   from the sub workflows as well.\n",
      "------------------------------------------------------------------------------\n",
      "Type           Succeeded Failed  Incomplete  Total     Retries   Total+Retries\n",
      "Tasks          7         0       0           7         4         11           \n",
      "Jobs           33        0       0           33        4         37           \n",
      "Sub-Workflows  0         0       0           0         0         0            \n",
      "------------------------------------------------------------------------------\n",
      "\n",
      "Workflow wall time                                       : 6 mins, 5 secs\n",
      "Cumulative job wall time                                 : 7 mins, 49 secs\n",
      "Cumulative job wall time as seen from submit side        : 7 mins, 55 secs\n",
      "Cumulative job badput wall time                          : 4 mins, 0 secs\n",
      "Cumulative job badput wall time as seen from submit side : 4 mins, 4 secs\n",
      "\n",
      "# Integrity Metrics\n",
      "# Number of files for which checksums were compared/computed along with total time spent doing it. \n",
      "496 files checksums compared with total duration of 11.70 secs\n",
      "157 files checksums generated with total duration of 0.23 secs\n",
      "\n",
      "# Integrity Errors\n",
      "# Total:\n",
      "#       Total number of integrity errors encountered across all job executions(including retries) of a workflow.\n",
      "# Failures:\n",
      "#       Number of failed jobs where the last job instance had integrity errors.\n",
      "Failures: 0 job failures had integrity errors\n",
      "\n",
      "Summary                       : /home/scitech/shared-data/pegasus-catdog-wf-master/scitech/pegasus/catVsdog-test-wf/run0001/statistics/summary.txt\n",
      "\n",
      " \n",
      "\n"
     ]
    }
   ],
   "source": [
    "try:\n",
    "    wf.plan(submit=True)\\\n",
    "    .wait()\\\n",
    "    .analyze()\\\n",
    "    .statistics()\n",
    "except PegasusClientError as e:\n",
    "    print(e.output)"
   ]
  },
  {
   "cell_type": "code",
   "execution_count": null,
   "metadata": {},
   "outputs": [],
   "source": []
  },
  {
   "cell_type": "code",
   "execution_count": 71,
   "metadata": {},
   "outputs": [
    {
     "data": {
      "text/plain": [
       "[\"{'model_name': 'vgg16', 'trial_id': 0, 'value': 1.0, 'parameters': {'optimizer': 'RMSprop', 'lr': 0.0002290400228183674}}\"]"
      ]
     },
     "execution_count": 71,
     "metadata": {},
     "output_type": "execute_result"
    }
   ],
   "source": [
    "## CONFIRM best_model.txt contains hyperparameters for training best model\n",
    "\n",
    "show_results = open(\"./wf-output/best_model.txt\", \"r\")\n",
    "show_results.readlines()"
   ]
  },
  {
   "cell_type": "code",
   "execution_count": null,
   "metadata": {},
   "outputs": [],
   "source": []
  }
 ],
 "metadata": {
  "kernelspec": {
   "display_name": "Python 3",
   "language": "python",
   "name": "python3"
  },
  "language_info": {
   "codemirror_mode": {
    "name": "ipython",
    "version": 3
   },
   "file_extension": ".py",
   "mimetype": "text/x-python",
   "name": "python",
   "nbconvert_exporter": "python",
   "pygments_lexer": "ipython3",
   "version": "3.6.8"
  }
 },
 "nbformat": 4,
 "nbformat_minor": 4
}
